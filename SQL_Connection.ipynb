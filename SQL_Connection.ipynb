{
 "cells": [
  {
   "cell_type": "markdown",
   "id": "59312e75",
   "metadata": {},
   "source": [
    "!pip install pymysql "
   ]
  },
  {
   "cell_type": "code",
   "execution_count": 2,
   "id": "9a0a294f",
   "metadata": {},
   "outputs": [],
   "source": [
    "import pymysql as sql "
   ]
  },
  {
   "cell_type": "code",
   "execution_count": 3,
   "id": "0f9cc629",
   "metadata": {},
   "outputs": [],
   "source": [
    "con = sql.connect(host=\"localhost\",\n",
    "                 port=3306,\n",
    "                 user=\"weather\",\n",
    "                  password=\"redhat\",\n",
    "                  database=\"weather_app\"\n",
    "                 )"
   ]
  },
  {
   "cell_type": "code",
   "execution_count": 5,
   "id": "e2c91a62",
   "metadata": {},
   "outputs": [],
   "source": [
    "cursor = con.cursor()"
   ]
  },
  {
   "cell_type": "code",
   "execution_count": 11,
   "id": "48174901",
   "metadata": {},
   "outputs": [],
   "source": [
    "def run_command(cmd):\n",
    "    cursor.execute(cmd)\n",
    "\n",
    "    data = cursor.fetchall()\n",
    "    for record in data:\n",
    "        print(*record, sep=\"|\\t|\")"
   ]
  },
  {
   "cell_type": "code",
   "execution_count": 12,
   "id": "c157a037",
   "metadata": {},
   "outputs": [
    {
     "name": "stdout",
     "output_type": "stream",
     "text": [
      "1|\t|Sachin Yadav|\t|redhat|\t|sachin@grrassolutions.in\n"
     ]
    }
   ],
   "source": [
    "run_command(\"SELECT * FROM weather_app.user\")"
   ]
  },
  {
   "cell_type": "code",
   "execution_count": 13,
   "id": "158b2f05",
   "metadata": {},
   "outputs": [
    {
     "name": "stdout",
     "output_type": "stream",
     "text": [
      "1|\t|jaipur\n",
      "1|\t|delhi\n",
      "1|\t|tonk\n"
     ]
    }
   ],
   "source": [
    "run_command(\"SELECT * FROM weather_app.city\")"
   ]
  },
  {
   "cell_type": "code",
   "execution_count": 18,
   "id": "688f7bb0",
   "metadata": {},
   "outputs": [
    {
     "data": {
      "text/plain": [
       "1"
      ]
     },
     "execution_count": 18,
     "metadata": {},
     "output_type": "execute_result"
    }
   ],
   "source": [
    "cursor.execute(\"INSERT INTO user(name, password, email)\\\n",
    "VALUES ('rajat', 'rajat', 'rajat@grras.com')\")\n"
   ]
  },
  {
   "cell_type": "code",
   "execution_count": 19,
   "id": "edf6f831",
   "metadata": {
    "scrolled": true
   },
   "outputs": [
    {
     "name": "stdout",
     "output_type": "stream",
     "text": [
      "1|\t|Sachin Yadav|\t|redhat|\t|sachin@grrassolutions.in\n",
      "2|\t|rajat|\t|rajat|\t|rajat@grras.com\n"
     ]
    }
   ],
   "source": [
    "run_command(\"SELECT * FROM weather_app.user\")"
   ]
  },
  {
   "cell_type": "code",
   "execution_count": 20,
   "id": "3d144298",
   "metadata": {},
   "outputs": [],
   "source": [
    "con.commit()"
   ]
  },
  {
   "cell_type": "code",
   "execution_count": 22,
   "id": "71ee1179",
   "metadata": {},
   "outputs": [
    {
     "data": {
      "text/plain": [
       "1"
      ]
     },
     "execution_count": 22,
     "metadata": {},
     "output_type": "execute_result"
    }
   ],
   "source": [
    "cursor.execute(\"INSERT INTO user(name, password, email)\\\n",
    "VALUES (%s, %s, %s)\", (\"Nidhi\", \"nidhi\", \"nidhi@grras.com\"))"
   ]
  },
  {
   "cell_type": "code",
   "execution_count": 23,
   "id": "67e687e2",
   "metadata": {},
   "outputs": [
    {
     "name": "stdout",
     "output_type": "stream",
     "text": [
      "1|\t|Sachin Yadav|\t|redhat|\t|sachin@grrassolutions.in\n",
      "2|\t|rajat|\t|rajat|\t|rajat@grras.com\n",
      "3|\t|Nidhi|\t|nidhi|\t|nidhi@grras.com\n"
     ]
    }
   ],
   "source": [
    "run_command(\"SELECT * FROM weather_app.user\")"
   ]
  },
  {
   "cell_type": "code",
   "execution_count": 25,
   "id": "67ac34b8",
   "metadata": {},
   "outputs": [],
   "source": [
    "cursor.close()"
   ]
  },
  {
   "cell_type": "code",
   "execution_count": 26,
   "id": "c0e92d35",
   "metadata": {},
   "outputs": [],
   "source": [
    "con.close()"
   ]
  },
  {
   "cell_type": "code",
   "execution_count": 7,
   "id": "1292c74c",
   "metadata": {},
   "outputs": [
    {
     "name": "stdout",
     "output_type": "stream",
     "text": [
      "Defaulting to user installation because normal site-packages is not writeable\n",
      "Collecting rsa\n",
      "  Downloading rsa-4.9-py3-none-any.whl (34 kB)\n",
      "Requirement already satisfied: pyasn1>=0.1.3 in c:\\programdata\\anaconda3\\lib\\site-packages (from rsa) (0.4.8)\n",
      "Installing collected packages: rsa\n",
      "Successfully installed rsa-4.9\n"
     ]
    }
   ],
   "source": [
    "!pip install rsa"
   ]
  },
  {
   "cell_type": "code",
   "execution_count": 8,
   "id": "be3caad5",
   "metadata": {},
   "outputs": [],
   "source": [
    "import rsa"
   ]
  },
  {
   "cell_type": "code",
   "execution_count": 12,
   "id": "7baf5d85",
   "metadata": {},
   "outputs": [],
   "source": [
    "public_key, private_key = rsa.newkeys(512)"
   ]
  },
  {
   "cell_type": "code",
   "execution_count": 15,
   "id": "6cae9595",
   "metadata": {},
   "outputs": [],
   "source": [
    "import pickle"
   ]
  },
  {
   "cell_type": "code",
   "execution_count": 16,
   "id": "0e540287",
   "metadata": {},
   "outputs": [],
   "source": [
    "keys = {\n",
    "    \"private_key\": private_key,\n",
    "    \"public_key\": public_key\n",
    "}"
   ]
  },
  {
   "cell_type": "code",
   "execution_count": 17,
   "id": "9f2e834e",
   "metadata": {},
   "outputs": [],
   "source": [
    "with open(\"keys.pkl\", \"wb\") as file:\n",
    "    pickle.dump(keys, file)"
   ]
  },
  {
   "cell_type": "code",
   "execution_count": 13,
   "id": "16e13720",
   "metadata": {},
   "outputs": [
    {
     "data": {
      "text/plain": [
       "PublicKey(7299463476104573394195870330013052818029987764241415517192420369587336918171912964178917381009901885405830397691622805790554586771848299384209934132813293, 65537)"
      ]
     },
     "execution_count": 13,
     "metadata": {},
     "output_type": "execute_result"
    }
   ],
   "source": [
    "public_key"
   ]
  },
  {
   "cell_type": "code",
   "execution_count": 14,
   "id": "9c6c4584",
   "metadata": {},
   "outputs": [
    {
     "data": {
      "text/plain": [
       "PrivateKey(7299463476104573394195870330013052818029987764241415517192420369587336918171912964178917381009901885405830397691622805790554586771848299384209934132813293, 65537, 5541453016259988099568596922793832748759418057498865468771449572731110265436764006571312789462410074232462664697070295224317164309729663174449454505196125, 4499788614303082600856116543276439657179111596614034758744138656299176047882573627, 1622179195907650053102137998843629012361934295549934374549188934188915959)"
      ]
     },
     "execution_count": 14,
     "metadata": {},
     "output_type": "execute_result"
    }
   ],
   "source": [
    "private_key"
   ]
  },
  {
   "cell_type": "code",
   "execution_count": 18,
   "id": "82c2e788",
   "metadata": {},
   "outputs": [],
   "source": [
    "import rsa\n",
    "import pickle\n",
    "\n",
    "with open(\"keys.pkl\", \"rb\") as file:\n",
    "    keys = pickle.load(file)"
   ]
  },
  {
   "cell_type": "code",
   "execution_count": 21,
   "id": "b0bc81f6",
   "metadata": {},
   "outputs": [
    {
     "data": {
      "text/plain": [
       "PublicKey(7299463476104573394195870330013052818029987764241415517192420369587336918171912964178917381009901885405830397691622805790554586771848299384209934132813293, 65537)"
      ]
     },
     "execution_count": 21,
     "metadata": {},
     "output_type": "execute_result"
    }
   ],
   "source": [
    "keys[\"public_key\"]"
   ]
  },
  {
   "cell_type": "code",
   "execution_count": 27,
   "id": "f38bae9e",
   "metadata": {},
   "outputs": [
    {
     "name": "stdout",
     "output_type": "stream",
     "text": [
      "b'Hello This is a Secret Message!'\n",
      "<class 'bytes'>\n"
     ]
    }
   ],
   "source": [
    "text = b\"Hello This is a Secret Message!\"\n",
    "print(text)\n",
    "print(type(text))"
   ]
  },
  {
   "cell_type": "code",
   "execution_count": 28,
   "id": "47df13b6",
   "metadata": {},
   "outputs": [
    {
     "name": "stdout",
     "output_type": "stream",
     "text": [
      "hello world! <class 'str'>\n",
      "b'hello world!' <class 'bytes'>\n",
      "hello world! <class 'str'>\n"
     ]
    }
   ],
   "source": [
    "s = \"hello world!\"\n",
    "\n",
    "b = s.encode()\n",
    "# str.encode() -> byte \n",
    "# byte.decode() -> string\n",
    "e = b.decode()\n",
    "\n",
    "print(s, type(s))\n",
    "print(b, type(b))\n",
    "print(e, type(e))"
   ]
  },
  {
   "cell_type": "code",
   "execution_count": 26,
   "id": "29c2bfd7",
   "metadata": {},
   "outputs": [],
   "source": [
    "#help(rsa.encrypt)"
   ]
  },
  {
   "cell_type": "code",
   "execution_count": 31,
   "id": "2cfe0b12",
   "metadata": {},
   "outputs": [],
   "source": [
    "text = \"Hello World! Welcome to python!\"\n",
    "enc_text = rsa.encrypt(text.encode(), keys[\"public_key\"])"
   ]
  },
  {
   "cell_type": "code",
   "execution_count": 30,
   "id": "19e31992",
   "metadata": {},
   "outputs": [
    {
     "name": "stdout",
     "output_type": "stream",
     "text": [
      "b'6Vq7W\\xb6\\xde\\xd8O\\t\\xf8n\\xf6\\xe9\\x034\\x7fz\\x12\\x14P\\xf5\\x15\\xc3\\x12\\xbf\\x97.\\xbb\\xf4\\x0f/q\\xc8\\xf6\\x01x\\xf5Co\\x800\" \\xf5\\x96\\x84\\t\\x18\\xd3\\xbd{\\xe1\\xc4\\xc0\\xbb\\xe7Bk\\xc2N\\xd7\\xc2Y'\n"
     ]
    }
   ],
   "source": [
    "print(enc_text)"
   ]
  },
  {
   "cell_type": "code",
   "execution_count": 34,
   "id": "11773c6f",
   "metadata": {},
   "outputs": [],
   "source": [
    "msg = rsa.decrypt(enc_text, keys[\"private_key\"]).decode()"
   ]
  },
  {
   "cell_type": "code",
   "execution_count": 35,
   "id": "10794e88",
   "metadata": {},
   "outputs": [
    {
     "name": "stdout",
     "output_type": "stream",
     "text": [
      "Hello World! Welcome to python!\n"
     ]
    }
   ],
   "source": [
    "print(msg)"
   ]
  },
  {
   "cell_type": "code",
   "execution_count": 37,
   "id": "f73820ba",
   "metadata": {},
   "outputs": [
    {
     "data": {
      "text/plain": [
       "<sqlite3.Cursor at 0x1d22c94e1f0>"
      ]
     },
     "execution_count": 37,
     "metadata": {},
     "output_type": "execute_result"
    }
   ],
   "source": [
    "con.execute(\"CREATE TABLE demo(x TEXT)\")"
   ]
  },
  {
   "cell_type": "code",
   "execution_count": 44,
   "id": "b5fa2d3b",
   "metadata": {},
   "outputs": [
    {
     "ename": "UnicodeDecodeError",
     "evalue": "'utf-8' codec can't decode byte 0xe2 in position 2: invalid continuation byte",
     "output_type": "error",
     "traceback": [
      "\u001b[1;31m---------------------------------------------------------------------------\u001b[0m",
      "\u001b[1;31mUnicodeDecodeError\u001b[0m                        Traceback (most recent call last)",
      "\u001b[1;32m~\\AppData\\Local\\Temp\\ipykernel_10020\\2794905839.py\u001b[0m in \u001b[0;36m<module>\u001b[1;34m\u001b[0m\n\u001b[1;32m----> 1\u001b[1;33m \u001b[0menc_text\u001b[0m\u001b[1;33m.\u001b[0m\u001b[0mdecode\u001b[0m\u001b[1;33m(\u001b[0m\u001b[1;33m)\u001b[0m\u001b[1;33m\u001b[0m\u001b[1;33m\u001b[0m\u001b[0m\n\u001b[0m",
      "\u001b[1;31mUnicodeDecodeError\u001b[0m: 'utf-8' codec can't decode byte 0xe2 in position 2: invalid continuation byte"
     ]
    }
   ],
   "source": []
  },
  {
   "cell_type": "code",
   "execution_count": 40,
   "id": "59b77f6b",
   "metadata": {},
   "outputs": [
    {
     "ename": "OperationalError",
     "evalue": "near \"\"b'\\\\7\\xe2~\\xf1^,\\x8e\\xba3\\x1f\\xc3\\xc4\\x07\\x8c\\xa5\\xbc\\xbdZ\\x1b\\xf5\\x00\\r\\xa3\\xce}\\xb4X\\xdd\\x83o|\\x94\\x07\\x0e\\xce\\xf0\\xda\\xc3\\x87O\\xac\\xf1\\xf8\\xf4i\\xc4\\xb0\\x01\\x85U\\xe1c\\x1a\\x9b8\\x10E1E\\x14\\xd4\\xd4k'\"\": syntax error",
     "output_type": "error",
     "traceback": [
      "\u001b[1;31m---------------------------------------------------------------------------\u001b[0m",
      "\u001b[1;31mOperationalError\u001b[0m                          Traceback (most recent call last)",
      "\u001b[1;32m~\\AppData\\Local\\Temp\\ipykernel_10020\\1191608368.py\u001b[0m in \u001b[0;36m<module>\u001b[1;34m\u001b[0m\n\u001b[1;32m----> 1\u001b[1;33m \u001b[0mcon\u001b[0m\u001b[1;33m.\u001b[0m\u001b[0mexecute\u001b[0m\u001b[1;33m(\u001b[0m\u001b[1;34mf'INSERT INTO demo(x) VALUES \"{enc_text}\"'\u001b[0m\u001b[1;33m)\u001b[0m\u001b[1;33m\u001b[0m\u001b[1;33m\u001b[0m\u001b[0m\n\u001b[0m",
      "\u001b[1;31mOperationalError\u001b[0m: near \"\"b'\\\\7\\xe2~\\xf1^,\\x8e\\xba3\\x1f\\xc3\\xc4\\x07\\x8c\\xa5\\xbc\\xbdZ\\x1b\\xf5\\x00\\r\\xa3\\xce}\\xb4X\\xdd\\x83o|\\x94\\x07\\x0e\\xce\\xf0\\xda\\xc3\\x87O\\xac\\xf1\\xf8\\xf4i\\xc4\\xb0\\x01\\x85U\\xe1c\\x1a\\x9b8\\x10E1E\\x14\\xd4\\xd4k'\"\": syntax error"
     ]
    }
   ],
   "source": [
    "con.execute(f'INSERT INTO demo(x) VALUES \"{enc_text}\"')"
   ]
  },
  {
   "cell_type": "code",
   "execution_count": null,
   "id": "5a6a98dd",
   "metadata": {},
   "outputs": [],
   "source": []
  },
  {
   "cell_type": "code",
   "execution_count": null,
   "id": "6519e03d",
   "metadata": {},
   "outputs": [],
   "source": []
  },
  {
   "cell_type": "code",
   "execution_count": null,
   "id": "74b724c8",
   "metadata": {},
   "outputs": [],
   "source": []
  },
  {
   "cell_type": "code",
   "execution_count": null,
   "id": "1dbe7081",
   "metadata": {},
   "outputs": [],
   "source": []
  },
  {
   "cell_type": "code",
   "execution_count": 1,
   "id": "d4b9f298",
   "metadata": {},
   "outputs": [],
   "source": [
    "import sqlite3 as sql"
   ]
  },
  {
   "cell_type": "code",
   "execution_count": 4,
   "id": "b268bf91",
   "metadata": {},
   "outputs": [],
   "source": [
    "con = sql.connect(\"weather.db\")"
   ]
  },
  {
   "cell_type": "code",
   "execution_count": 5,
   "id": "b5384ef9",
   "metadata": {},
   "outputs": [],
   "source": [
    "cursor = con.cursor()"
   ]
  },
  {
   "cell_type": "code",
   "execution_count": 45,
   "id": "3611566f",
   "metadata": {},
   "outputs": [],
   "source": [
    "command = \"CREATE TABLE user(email VARCHAR(200) PRIMARY KEY, \\\n",
    "    password VARCHAR(50) NOT NULL, name VARCHAR(200))\""
   ]
  },
  {
   "cell_type": "code",
   "execution_count": 46,
   "id": "aa3b278d",
   "metadata": {},
   "outputs": [
    {
     "data": {
      "text/plain": [
       "<sqlite3.Cursor at 0x1d22c921420>"
      ]
     },
     "execution_count": 46,
     "metadata": {},
     "output_type": "execute_result"
    }
   ],
   "source": [
    "cursor.execute(command)"
   ]
  },
  {
   "cell_type": "code",
   "execution_count": 48,
   "id": "b1cb419d",
   "metadata": {},
   "outputs": [
    {
     "data": {
      "text/plain": [
       "<sqlite3.Cursor at 0x1d22b218960>"
      ]
     },
     "execution_count": 48,
     "metadata": {},
     "output_type": "execute_result"
    }
   ],
   "source": [
    "cursor.execute(command)"
   ]
  },
  {
   "cell_type": "code",
   "execution_count": 47,
   "id": "e770c646",
   "metadata": {},
   "outputs": [],
   "source": [
    "command = \"CREATE TABLE city(email VARCHAR(200), city VARCHAR(200),\\\n",
    "    CONSTRAINT `FK` FOREIGN KEY (email) REFERENCES user(email))\""
   ]
  },
  {
   "cell_type": "code",
   "execution_count": 50,
   "id": "d04a8716",
   "metadata": {},
   "outputs": [],
   "source": [
    "con.commit()"
   ]
  },
  {
   "cell_type": "code",
   "execution_count": 51,
   "id": "311e808c",
   "metadata": {},
   "outputs": [
    {
     "data": {
      "text/plain": [
       "[]"
      ]
     },
     "execution_count": 51,
     "metadata": {},
     "output_type": "execute_result"
    }
   ],
   "source": [
    "command = \"SELECT * FROM user\"\n",
    "cursor.execute(command)\n",
    "\n",
    "cursor.fetchall()"
   ]
  },
  {
   "cell_type": "code",
   "execution_count": 52,
   "id": "bc516edd",
   "metadata": {},
   "outputs": [
    {
     "data": {
      "text/plain": [
       "<sqlite3.Cursor at 0x1d22b218960>"
      ]
     },
     "execution_count": 52,
     "metadata": {},
     "output_type": "execute_result"
    }
   ],
   "source": [
    "command = \"INSERT INTO user VALUES (?, ?, ?)\"\n",
    "cursor.execute(command, (\"sachin@grrassolutions.in\", \"redhat\", \"Sachin Yadav\"))"
   ]
  },
  {
   "cell_type": "code",
   "execution_count": 56,
   "id": "6b6544e9",
   "metadata": {},
   "outputs": [
    {
     "data": {
      "text/plain": [
       "<sqlite3.Cursor at 0x1d22b218960>"
      ]
     },
     "execution_count": 56,
     "metadata": {},
     "output_type": "execute_result"
    }
   ],
   "source": [
    "command = \"INSERT INTO city VALUES (?, ?)\"\n",
    "cursor.execute(command, (\"sachin@grrassolutions.in\", \"jaipur\"))\n"
   ]
  },
  {
   "cell_type": "code",
   "execution_count": 57,
   "id": "daba7a5d",
   "metadata": {},
   "outputs": [
    {
     "data": {
      "text/plain": [
       "<sqlite3.Cursor at 0x1d22b218960>"
      ]
     },
     "execution_count": 57,
     "metadata": {},
     "output_type": "execute_result"
    }
   ],
   "source": [
    "command = \"INSERT INTO city VALUES (?, ?)\"\n",
    "cursor.execute(command, (\"sachin@grrassolutions.in\", \"udaipur\"))"
   ]
  },
  {
   "cell_type": "code",
   "execution_count": 58,
   "id": "e41400b5",
   "metadata": {},
   "outputs": [
    {
     "data": {
      "text/plain": [
       "<sqlite3.Cursor at 0x1d22b218960>"
      ]
     },
     "execution_count": 58,
     "metadata": {},
     "output_type": "execute_result"
    }
   ],
   "source": [
    "command = \"INSERT INTO city VALUES (?, ?)\"\n",
    "cursor.execute(command, (\"sachin@grrassolutions.in\", \"delhi\"))\n"
   ]
  },
  {
   "cell_type": "code",
   "execution_count": 59,
   "id": "5d22fcbf",
   "metadata": {},
   "outputs": [
    {
     "data": {
      "text/plain": [
       "<sqlite3.Cursor at 0x1d22b218960>"
      ]
     },
     "execution_count": 59,
     "metadata": {},
     "output_type": "execute_result"
    }
   ],
   "source": [
    "command = \"SELECT * FROM user, city\"\n",
    "cursor.execute(command)"
   ]
  },
  {
   "cell_type": "code",
   "execution_count": 60,
   "id": "2861e1c8",
   "metadata": {},
   "outputs": [
    {
     "data": {
      "text/plain": [
       "[('sachin@grrassolutions.in',\n",
       "  'redhat',\n",
       "  'Sachin Yadav',\n",
       "  'sachin@grrassolutions.in',\n",
       "  'jaipur'),\n",
       " ('sachin@grrassolutions.in',\n",
       "  'redhat',\n",
       "  'Sachin Yadav',\n",
       "  'sachin@grrassolutions.in',\n",
       "  'udaipur'),\n",
       " ('sachin@grrassolutions.in',\n",
       "  'redhat',\n",
       "  'Sachin Yadav',\n",
       "  'sachin@grrassolutions.in',\n",
       "  'delhi')]"
      ]
     },
     "execution_count": 60,
     "metadata": {},
     "output_type": "execute_result"
    }
   ],
   "source": [
    "cursor.fetchall()"
   ]
  },
  {
   "cell_type": "code",
   "execution_count": null,
   "id": "f27e058b",
   "metadata": {},
   "outputs": [],
   "source": []
  },
  {
   "cell_type": "code",
   "execution_count": 33,
   "id": "cf833ac6",
   "metadata": {},
   "outputs": [
    {
     "data": {
      "text/plain": [
       "<sqlite3.Cursor at 0x1f797faf420>"
      ]
     },
     "execution_count": 33,
     "metadata": {},
     "output_type": "execute_result"
    }
   ],
   "source": [
    "cursor.execute(\"SELECT * FROM city\")"
   ]
  },
  {
   "cell_type": "code",
   "execution_count": 61,
   "id": "a8d92edc",
   "metadata": {},
   "outputs": [],
   "source": [
    "con.commit()"
   ]
  },
  {
   "cell_type": "code",
   "execution_count": 34,
   "id": "abff4c65",
   "metadata": {},
   "outputs": [],
   "source": [
    "data = cursor.fetchall()"
   ]
  },
  {
   "cell_type": "code",
   "execution_count": 35,
   "id": "cd3d0619",
   "metadata": {},
   "outputs": [],
   "source": [
    "def show_record(data):\n",
    "    for record in data:\n",
    "        print(*record, sep='\\t')"
   ]
  },
  {
   "cell_type": "code",
   "execution_count": 36,
   "id": "7d25719a",
   "metadata": {},
   "outputs": [
    {
     "name": "stdout",
     "output_type": "stream",
     "text": [
      "1\tjaipur\n",
      "1\tdelhi\n",
      "1\ttonk\n"
     ]
    }
   ],
   "source": [
    "show_record(data)"
   ]
  },
  {
   "cell_type": "markdown",
   "id": "d3f40867",
   "metadata": {},
   "source": [
    "####   DATABASE CONNECT CITY "
   ]
  },
  {
   "cell_type": "markdown",
   "id": "d0e44619",
   "metadata": {},
   "source": [
    "MONDAY! "
   ]
  },
  {
   "cell_type": "code",
   "execution_count": 63,
   "id": "f5e75c6a",
   "metadata": {},
   "outputs": [
    {
     "name": "stdout",
     "output_type": "stream",
     "text": [
      "5 <class 'int'>\n"
     ]
    }
   ],
   "source": [
    "x = (5)\n",
    "print(x, type(x))"
   ]
  },
  {
   "cell_type": "code",
   "execution_count": 64,
   "id": "352632a1",
   "metadata": {},
   "outputs": [
    {
     "name": "stdout",
     "output_type": "stream",
     "text": [
      "(5,) <class 'tuple'>\n"
     ]
    }
   ],
   "source": [
    "x = (5, )\n",
    "print(x, type(x))"
   ]
  },
  {
   "cell_type": "code",
   "execution_count": 62,
   "id": "f2dddf90",
   "metadata": {},
   "outputs": [],
   "source": [
    "email = \"sachin@grrassolutions.in\""
   ]
  },
  {
   "cell_type": "code",
   "execution_count": 65,
   "id": "f5fbed5e",
   "metadata": {},
   "outputs": [
    {
     "data": {
      "text/plain": [
       "<sqlite3.Cursor at 0x1d22b218960>"
      ]
     },
     "execution_count": 65,
     "metadata": {},
     "output_type": "execute_result"
    }
   ],
   "source": [
    "query = \"SELECT * FROM user WHERE email=?\"\n",
    "\n",
    "cursor.execute(query, (email,))"
   ]
  },
  {
   "cell_type": "code",
   "execution_count": 66,
   "id": "3e770e7e",
   "metadata": {},
   "outputs": [],
   "source": [
    "data = cursor.fetchall()"
   ]
  },
  {
   "cell_type": "code",
   "execution_count": 67,
   "id": "5dabd90a",
   "metadata": {},
   "outputs": [
    {
     "name": "stdout",
     "output_type": "stream",
     "text": [
      "[('sachin@grrassolutions.in', 'redhat', 'Sachin Yadav')]\n"
     ]
    }
   ],
   "source": [
    "print(data)"
   ]
  },
  {
   "cell_type": "code",
   "execution_count": 68,
   "id": "386730e6",
   "metadata": {},
   "outputs": [
    {
     "name": "stdout",
     "output_type": "stream",
     "text": [
      "[]\n"
     ]
    }
   ],
   "source": [
    "email = \"rajat@grrassolutions.in\"\n",
    "query = \"SELECT * FROM user WHERE email=?\"\n",
    "\n",
    "cursor.execute(query, (email,))\n",
    "data = cursor.fetchall()\n",
    "print(data)"
   ]
  },
  {
   "cell_type": "code",
   "execution_count": 69,
   "id": "30011648",
   "metadata": {},
   "outputs": [
    {
     "ename": "IntegrityError",
     "evalue": "UNIQUE constraint failed: user.email",
     "output_type": "error",
     "traceback": [
      "\u001b[1;31m---------------------------------------------------------------------------\u001b[0m",
      "\u001b[1;31mIntegrityError\u001b[0m                            Traceback (most recent call last)",
      "\u001b[1;32m~\\AppData\\Local\\Temp\\ipykernel_10020\\3075016412.py\u001b[0m in \u001b[0;36m<module>\u001b[1;34m\u001b[0m\n\u001b[0;32m      1\u001b[0m \u001b[0mcommand\u001b[0m \u001b[1;33m=\u001b[0m \u001b[1;34m\"InSERT INTO user(email, password, name) VALUES (?, ?, ?)\"\u001b[0m\u001b[1;33m\u001b[0m\u001b[1;33m\u001b[0m\u001b[0m\n\u001b[0;32m      2\u001b[0m \u001b[1;33m\u001b[0m\u001b[0m\n\u001b[1;32m----> 3\u001b[1;33m \u001b[0mcursor\u001b[0m\u001b[1;33m.\u001b[0m\u001b[0mexecute\u001b[0m\u001b[1;33m(\u001b[0m\u001b[0mcommand\u001b[0m\u001b[1;33m,\u001b[0m \u001b[1;33m(\u001b[0m\u001b[1;34m\"sachin@grrassolutions.in\"\u001b[0m\u001b[1;33m,\u001b[0m \u001b[1;34m\"yahoo\"\u001b[0m\u001b[1;33m,\u001b[0m \u001b[1;34m\"rajat\"\u001b[0m\u001b[1;33m)\u001b[0m\u001b[1;33m)\u001b[0m\u001b[1;33m\u001b[0m\u001b[1;33m\u001b[0m\u001b[0m\n\u001b[0m",
      "\u001b[1;31mIntegrityError\u001b[0m: UNIQUE constraint failed: user.email"
     ]
    }
   ],
   "source": [
    "command = \"InSERT INTO user(email, password, name) VALUES (?, ?, ?)\"\n",
    "\n",
    "cursor.execute(command, (\"sachin@grrassolutions.in\", \"yahoo\", \"rajat\"))"
   ]
  },
  {
   "cell_type": "code",
   "execution_count": 70,
   "id": "6aa84ebc",
   "metadata": {},
   "outputs": [
    {
     "name": "stdout",
     "output_type": "stream",
     "text": [
      "account already Exists\n"
     ]
    }
   ],
   "source": [
    "try:\n",
    "    command = \"InSERT INTO user(email, password, name) VALUES (?, ?, ?)\"\n",
    "    cursor.execute(command, (\"sachin@grrassolutions.in\", \"yahoo\", \"rajat\"))\n",
    "except sql.IntegrityError: \n",
    "    print(\"account already Exists\")"
   ]
  },
  {
   "cell_type": "code",
   "execution_count": 71,
   "id": "ff4aea82",
   "metadata": {},
   "outputs": [],
   "source": [
    "cursor.close()"
   ]
  },
  {
   "cell_type": "code",
   "execution_count": 72,
   "id": "5c4930aa",
   "metadata": {},
   "outputs": [],
   "source": [
    "con.close()"
   ]
  },
  {
   "cell_type": "code",
   "execution_count": 74,
   "id": "0c9163b2",
   "metadata": {},
   "outputs": [
    {
     "name": "stdout",
     "output_type": "stream",
     "text": [
      "('sachin@grrassolutions.in', 'redhat', 'Sachin Yadav')\n",
      "('rajat@grras.com', 'rajat', 'Rajat Goyal')\n",
      "('shubham@gmail.com', 'jangid', 'Shubham Jangid')\n"
     ]
    }
   ],
   "source": [
    "import sqlite3 as sql \n",
    "\n",
    "con = sql.connect(\"weather.db\")\n",
    "cursor = con.cursor()\n",
    "\n",
    "cursor.execute(\"SELECT * FROM user\")\n",
    "print(*cursor.fetchall(), sep=\"\\n\")\n",
    "cursor.close()\n",
    "con.close()"
   ]
  },
  {
   "cell_type": "markdown",
   "id": "3e0bdb97",
   "metadata": {},
   "source": [
    "Session / REST APIs"
   ]
  },
  {
   "cell_type": "markdown",
   "id": "372ceb22",
   "metadata": {},
   "source": []
  }
 ],
 "metadata": {
  "kernelspec": {
   "display_name": "base",
   "language": "python",
   "name": "python3"
  },
  "language_info": {
   "codemirror_mode": {
    "name": "ipython",
    "version": 3
   },
   "file_extension": ".py",
   "mimetype": "text/x-python",
   "name": "python",
   "nbconvert_exporter": "python",
   "pygments_lexer": "ipython3",
   "version": "3.9.13"
  },
  "vscode": {
   "interpreter": {
    "hash": "ad2bdc8ecc057115af97d19610ffacc2b4e99fae6737bb82f5d7fb13d2f2c186"
   }
  }
 },
 "nbformat": 4,
 "nbformat_minor": 5
}
